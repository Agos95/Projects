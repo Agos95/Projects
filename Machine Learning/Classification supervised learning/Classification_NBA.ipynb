{
 "cells": [
  {
   "cell_type": "markdown",
   "metadata": {},
   "source": [
    "# Classification of NBA players role\n",
    "\n",
    "## IMPORTANT: make sure to rerun all the code from the beginning to obtain the results for the final version of your notebook, since this is the way we will do it before evaluting your notebook!\n",
    "\n",
    "### Dataset description\n",
    "\n",
    "We will be working with a dataset of NBA basketball players data (you can get from https://www.kaggle.com/jacobbaruch/nba-player-of-the-week the full dataset).\n",
    "\n",
    "The provided data is a subset of the full dataset containing the players that have the role of Center and of Point Guard. For each player the dataset contains the height, weight and age.\n",
    "\n",
    "From Wikipedia:\n",
    "\n",
    "The Center (C), also known as the five, or the big man, is one of the five positions in a regular basketball game. The center is normally the tallest player on the team, and often has a great deal of strength and body mass as well. In the NBA, the center is usually 6' 10\" (2.08 m) or taller and usually weighs 240 lbs (109 kg) or more. \n",
    "\n",
    "Point Guards (PG, a.k.a. as \"play maker\") are expected to run the team's offense by controlling the ball and making sure that it gets to the right players at the right time. In the NBA, point guards are usually about 6' 3\" (1.93 m) or shorter, and average about 6' 2\" (1.88 m). Having above-average size (height, muscle) is considered advantageous, although size is secondary to situational awareness, speed, quickness, and ball handling skills. Shorter players tend to be better dribblers since they are closer to the floor, and thus have better control of the ball while dribbling. \n",
    "\n",
    "As it is clear from the description, the height and weight of the player are good hints to predict their role and in this lab we'll exploit these features to estimate the role.\n",
    "\n",
    "\n",
    "### Three features are present in this dataset:\n",
    "\n",
    "\n",
    "1) Height in cm\n",
    "\n",
    "2) Weight in kg\n",
    "\n",
    "3) Age in years\n",
    "\n"
   ]
  },
  {
   "cell_type": "markdown",
   "metadata": {},
   "source": [
    "We first import all the packages that are needed."
   ]
  },
  {
   "cell_type": "code",
   "execution_count": 1,
   "metadata": {},
   "outputs": [],
   "source": [
    "%matplotlib inline\n",
    "import matplotlib.pyplot as plt\n",
    "import csv\n",
    "\n",
    "import numpy as np\n",
    "import scipy as sp\n",
    "import sklearn as sl\n",
    "from scipy import stats\n",
    "from sklearn import datasets\n",
    "from sklearn import linear_model"
   ]
  },
  {
   "cell_type": "markdown",
   "metadata": {},
   "source": [
    "# Perceptron\n",
    "We will implement the perceptron and use it to learn a halfspace."
   ]
  },
  {
   "cell_type": "markdown",
   "metadata": {},
   "source": [
    "**TO DO** Set the random seed to your ID (matricola)."
   ]
  },
  {
   "cell_type": "code",
   "execution_count": 2,
   "metadata": {},
   "outputs": [],
   "source": [
    "IDnumber = 1205462 #COMPLETE\n",
    "np.random.seed(IDnumber)"
   ]
  },
  {
   "cell_type": "markdown",
   "metadata": {},
   "source": [
    "Load the dataset and then split in training set and test set (50%-50%) after applying a random permutation to the datset."
   ]
  },
  {
   "cell_type": "code",
   "execution_count": 3,
   "metadata": {},
   "outputs": [
    {
     "name": "stdout",
     "output_type": "stream",
     "text": [
      "['Position', 'Height cm', 'kg', 'Age']\n"
     ]
    }
   ],
   "source": [
    "#load the dataset\n",
    "filename = 'data/NBA.csv'\n",
    "NBA = csv.reader(open(filename, newline=''), delimiter=',')\n",
    "\n",
    "header = next(NBA) #skip first line\n",
    "print(header)\n",
    "\n",
    "dataset = list(NBA)\n",
    "for i in range(len(dataset)):\n",
    "    dataset[i] = [int(x) for x in dataset[i]]\n",
    "    \n",
    "dataset = np.asarray(dataset)\n",
    "\n",
    "X = dataset[:,1:3]\n",
    "Y = dataset[:,0]\n",
    "\n",
    "Y = Y*2-1  # set labels to -1, 1 as required by perceptron implementation\n",
    "\n",
    "m = dataset.shape[0]\n",
    "permutation = np.random.permutation(m)\n",
    "\n",
    "X = X[permutation]\n",
    "Y = Y[permutation]"
   ]
  },
  {
   "cell_type": "markdown",
   "metadata": {},
   "source": [
    "We are going to classify class \"1\" (Center) vs class \"-1\" (Point Guard)"
   ]
  },
  {
   "cell_type": "markdown",
   "metadata": {},
   "source": [
    "**TO DO** Divide the data into training set and test set (50% of the data each)"
   ]
  },
  {
   "cell_type": "code",
   "execution_count": 4,
   "metadata": {},
   "outputs": [
    {
     "name": "stdout",
     "output_type": "stream",
     "text": [
      "Y training = [-1 -1 -1 -1 -1  1 -1  1 -1 -1  1  1 -1 -1  1 -1  1 -1  1  1  1  1  1  1\n",
      " -1  1 -1 -1  1 -1  1 -1 -1 -1 -1  1 -1 -1  1  1  1  1 -1 -1 -1 -1  1  1\n",
      "  1 -1 -1 -1 -1  1  1  1  1  1  1  1  1 -1  1  1 -1  1  1  1 -1  1 -1 -1\n",
      " -1 -1 -1  1 -1  1  1 -1 -1 -1  1 -1  1  1 -1  1 -1  1  1  1 -1  1 -1 -1\n",
      " -1 -1  1 -1  1  1  1  1  1 -1  1  1  1 -1  1  1  1 -1  1 -1 -1 -1  1 -1\n",
      "  1  1  1  1  1 -1  1  1  1  1]\n",
      "# '-1' in Y_training = 59\n",
      "# '+1' in Y_training = 71\n"
     ]
    }
   ],
   "source": [
    "#Divide in training and test: make sure that your training set\n",
    "#contains at least 10 elements from class 1 and at least 10 elements\n",
    "#from class -1! If it does not, modify the code so to apply more random\n",
    "#permutations (or the same permutation multiple times) until this happens.\n",
    "#IMPORTANT: do not change the random seed.\n",
    "\n",
    "#m_training needs to be the number of samples in the training set\n",
    "m_training = len(X[:,0]) // 2 #COMPLETE\n",
    "\n",
    "#m_test needs to be the number of samples in the test set\n",
    "m_test = len(X[:, 0]) - m_training #COMPLETE\n",
    "\n",
    "#X_training = instances for training set\n",
    "X_training = X[:m_training, :] #COMPLETE\n",
    "#Y_training = labels for the training set\n",
    "Y_training = Y[:m_training]#COMPLETE\n",
    "\n",
    "#X_test = instances for test set\n",
    "X_test = X[m_training:, :]#COMPLETE\n",
    "#Y_test = labels for the test set\n",
    "Y_test = Y[m_training:]#COMPLETE\n",
    "\n",
    "print(\"Y training =\", Y_training) #to make sure that Y_training contains both 1 and -1\n",
    "print(\"# \\'-1\\' in Y_training =\", list(Y_training).count(-1))\n",
    "print(\"# \\'+1\\' in Y_training =\", list(Y_training).count( 1))"
   ]
  },
  {
   "cell_type": "markdown",
   "metadata": {},
   "source": [
    "**TO DO** Now add a 1 in front of each sample so that we can use a vector to describe all the coefficients of the model (homogeneous coordinates). You can use the function $hstack$ in $numpy$"
   ]
  },
  {
   "cell_type": "code",
   "execution_count": 5,
   "metadata": {},
   "outputs": [],
   "source": [
    "#add a 1 to each sample\n",
    "if np.array_equal(X_training[:, 0], np.ones(m_training)) == False:\n",
    "    X_training = np.hstack((np.ones((m_training,1)),X_training)) #COMPLETE\n",
    "#print(X_training)\n",
    "\n",
    "if np.array_equal(X_test[:, 0], np.ones(m_test)) == False:\n",
    "    X_test = np.hstack((np.ones((m_test,1)),X_test)) #COMPLETE\n",
    "#print(X_test)"
   ]
  },
  {
   "cell_type": "markdown",
   "metadata": {},
   "source": [
    "**TO DO** Now complete the function *perceptron*. Since the perceptron does not terminate if the data is not linearly separable, your implementation should return the desired output (see below) if it reached the termination condition seen in class or if a maximum number of iterations have already been run, where 1 iteration corresponds to 1 update of the perceptron weights. In case the termination is reached because the maximum number of iterations have been completed, the implementation should return **the best model** seen up to now.\n",
    "\n",
    "The input parameters to pass are:\n",
    "- $X$: the matrix of input features, one row for each sample\n",
    "- $Y$: the vector of labels for the input features matrix X\n",
    "- $max\\_num\\_iterations$: the maximum number of iterations for running the perceptron\n",
    "\n",
    "The output values are:\n",
    "- $best\\_w$: the vector with the coefficients of the best model\n",
    "- $best\\_error$: the *fraction* of missclassified samples for the best model"
   ]
  },
  {
   "cell_type": "code",
   "execution_count": 6,
   "metadata": {},
   "outputs": [],
   "source": [
    "\n",
    "def perceptron(X, Y, max_num_iterations):\n",
    "    best_w = np.zeros(len(X[0]))\n",
    "    best_error = 1\n",
    "    \n",
    "    w = np.zeros(len(X[0]))\n",
    "    # time counter\n",
    "    t = 1\n",
    "    while t <= max_num_iterations:\n",
    "        error_index = []\n",
    "        # find misclassified samples\n",
    "        for i in range(len(Y)):\n",
    "            if Y[i]*np.dot(X[i], w) <= 0:\n",
    "                error_index.append(i)\n",
    "        # if I don't get wrong classified samples, exit the cicle and return best_w\n",
    "        if len(error_index) == 0: \n",
    "            print(\"[Perceptron] Termination reached after\", t, \"iterations\")\n",
    "            print(\"[Perceptron] [max_num_interations =\", max_num_interations, \"]\")\n",
    "            break\n",
    "        j = error_index[np.random.randint(0, len(error_index))]\n",
    "        # update w\n",
    "        w += Y[j]*X[j,:]\n",
    "        # calc errors\n",
    "        num_errors = 0\n",
    "        for i in range(len(Y)):\n",
    "            if Y[i]*np.dot(X[i], w) <= 0: num_errors += 1\n",
    "        # compare to best_error\n",
    "        if best_error > num_errors / len(Y):\n",
    "            best_w = w.copy()\n",
    "            best_error = num_errors / len(Y)\n",
    "        # warn if max_num_interactions is reached\n",
    "        if t == max_num_iterations:\n",
    "            print(\"[Perceptron] max_num_iterations =\", max_num_iterations, \"reached\")\n",
    "        # update time\n",
    "        t += 1\n",
    "            \n",
    "    return best_w, best_error\n"
   ]
  },
  {
   "cell_type": "markdown",
   "metadata": {},
   "source": [
    "Now we use the implementation above of the perceptron to learn a model from the training data using 100 iterations and print the error of the best model we have found."
   ]
  },
  {
   "cell_type": "code",
   "execution_count": 7,
   "metadata": {},
   "outputs": [
    {
     "name": "stdout",
     "output_type": "stream",
     "text": [
      "[Perceptron] max_num_iterations = 100 reached\n",
      "Error (100 iterations) = 0.05384615384615385\n",
      "w_found (100 iterations) = [  -5. -366.  742.]\n"
     ]
    }
   ],
   "source": [
    "#now run the perceptron for 100 iterations\n",
    "n = 100\n",
    "w_found, error = perceptron(X_training,Y_training, n)\n",
    "\n",
    "print(\"Error (%i iterations) =\" %n, error)\n",
    "print(\"w_found (%i iterations) =\" %n, w_found)"
   ]
  },
  {
   "cell_type": "markdown",
   "metadata": {},
   "source": [
    "**TO DO** use the best model $w\\_found$ to predict the labels for the test dataset and print the fraction of missclassified samples in the test set (that is an estimate of the true loss)."
   ]
  },
  {
   "cell_type": "code",
   "execution_count": 8,
   "metadata": {},
   "outputs": [
    {
     "name": "stdout",
     "output_type": "stream",
     "text": [
      "True loss estimate (100 iterations) = 0.1\n"
     ]
    }
   ],
   "source": [
    "#now use the w_found to make predictions on test dataset (100 iterations)\n",
    "\n",
    "num_errors = 0\n",
    "\n",
    "#ADD CODE!\n",
    "\n",
    "for i in range(m_test):\n",
    "    if Y_test[i]*np.dot(X_test[i], w_found) <= 0:\n",
    "        #print(Y_test[i]*np.dot(X_test[i], w_found))\n",
    "        num_errors += 1\n",
    "        \n",
    "true_loss_estimate = num_errors/m_test\n",
    "#NOTE: you can avoid using num_errors if you prefer, as long as true_loss_estimate is correct\n",
    "print(\"True loss estimate (%i iterations) =\" %n, true_loss_estimate)"
   ]
  },
  {
   "cell_type": "markdown",
   "metadata": {},
   "source": [
    "**TO DO** Copy the code from the last 2 cells above in the cell below and repeat the training with 10000 iterations. Then print the error in the training set and the estimate of the true loss obtained from the test set."
   ]
  },
  {
   "cell_type": "code",
   "execution_count": 9,
   "metadata": {},
   "outputs": [
    {
     "name": "stdout",
     "output_type": "stream",
     "text": [
      "[Perceptron] max_num_iterations = 10000 reached\n",
      "Error (10000 iterations) = 0.05384615384615385\n",
      "True loss estimate (10000 iterations) = 0.1\n"
     ]
    }
   ],
   "source": [
    "#now run the perceptron for 10000 iterations here!\n",
    "\n",
    "#ADD CODE!\n",
    "n = 10000\n",
    "w_found, error = perceptron(X_training,Y_training, n)\n",
    "print(\"Error (%i iterations) =\" %n, error)\n",
    "\n",
    "num_errors = 0.\n",
    "\n",
    "#ADD CODE!\n",
    "\n",
    "for i in range(m_test):\n",
    "    if Y_test[i]*np.dot(X_test[i], w_found) <= 0: num_errors += 1\n",
    "\n",
    "true_loss_estimate = num_errors/m_test\n",
    "#NOTE: you can avoid using num_errors if you prefer, as long as true_loss_estimate is correct\n",
    "print(\"True loss estimate (%i iterations) =\" %n, true_loss_estimate)"
   ]
  },
  {
   "cell_type": "markdown",
   "metadata": {},
   "source": [
    "**TO DO** [Answer the following] What about the difference betweeen the training error and the test error in terms of fraction of missclassified samples? Explain what you observe. [Write the answer in this cell]\n",
    "\n",
    "**ANSWER** In my dataset, the training error is the same both using `max_num_interations = 100` or `max_num_interations = 10000` (equal to 0.053). The same argument is valid also for the true loss estimate, which is 0.1 in both cases. Infact, as shown in plots below, both the error and the true loss start to be stable around `max_num_interations = 100`. The true loss estimate is bigger than the training error; this is due to the fact that `w_found` is optimized for the training set, and then it is used to predict the output in the test set.  "
   ]
  },
  {
   "cell_type": "code",
   "execution_count": 10,
   "metadata": {
    "scrolled": true
   },
   "outputs": [
    {
     "name": "stdout",
     "output_type": "stream",
     "text": [
      "[Perceptron] max_num_iterations = 1 reached\n",
      "[Perceptron] max_num_iterations = 2 reached\n",
      "[Perceptron] max_num_iterations = 3 reached\n",
      "[Perceptron] max_num_iterations = 4 reached\n",
      "[Perceptron] max_num_iterations = 5 reached\n",
      "[Perceptron] max_num_iterations = 6 reached\n",
      "[Perceptron] max_num_iterations = 7 reached\n",
      "[Perceptron] max_num_iterations = 8 reached\n",
      "[Perceptron] max_num_iterations = 9 reached\n",
      "[Perceptron] max_num_iterations = 10 reached\n",
      "[Perceptron] max_num_iterations = 11 reached\n",
      "[Perceptron] max_num_iterations = 12 reached\n",
      "[Perceptron] max_num_iterations = 13 reached\n",
      "[Perceptron] max_num_iterations = 14 reached\n",
      "[Perceptron] max_num_iterations = 15 reached\n",
      "[Perceptron] max_num_iterations = 16 reached\n",
      "[Perceptron] max_num_iterations = 17 reached\n",
      "[Perceptron] max_num_iterations = 18 reached\n",
      "[Perceptron] max_num_iterations = 19 reached\n",
      "[Perceptron] max_num_iterations = 20 reached\n",
      "[Perceptron] max_num_iterations = 21 reached\n",
      "[Perceptron] max_num_iterations = 22 reached\n",
      "[Perceptron] max_num_iterations = 23 reached\n",
      "[Perceptron] max_num_iterations = 24 reached\n",
      "[Perceptron] max_num_iterations = 25 reached\n",
      "[Perceptron] max_num_iterations = 26 reached\n",
      "[Perceptron] max_num_iterations = 27 reached\n",
      "[Perceptron] max_num_iterations = 28 reached\n",
      "[Perceptron] max_num_iterations = 29 reached\n",
      "[Perceptron] max_num_iterations = 30 reached\n",
      "[Perceptron] max_num_iterations = 31 reached\n",
      "[Perceptron] max_num_iterations = 32 reached\n",
      "[Perceptron] max_num_iterations = 33 reached\n",
      "[Perceptron] max_num_iterations = 34 reached\n",
      "[Perceptron] max_num_iterations = 35 reached\n",
      "[Perceptron] max_num_iterations = 36 reached\n",
      "[Perceptron] max_num_iterations = 37 reached\n",
      "[Perceptron] max_num_iterations = 38 reached\n",
      "[Perceptron] max_num_iterations = 39 reached\n",
      "[Perceptron] max_num_iterations = 40 reached\n",
      "[Perceptron] max_num_iterations = 41 reached\n",
      "[Perceptron] max_num_iterations = 42 reached\n",
      "[Perceptron] max_num_iterations = 43 reached\n",
      "[Perceptron] max_num_iterations = 44 reached\n",
      "[Perceptron] max_num_iterations = 45 reached\n",
      "[Perceptron] max_num_iterations = 46 reached\n",
      "[Perceptron] max_num_iterations = 47 reached\n",
      "[Perceptron] max_num_iterations = 48 reached\n",
      "[Perceptron] max_num_iterations = 49 reached\n",
      "[Perceptron] max_num_iterations = 50 reached\n",
      "[Perceptron] max_num_iterations = 51 reached\n",
      "[Perceptron] max_num_iterations = 52 reached\n",
      "[Perceptron] max_num_iterations = 53 reached\n",
      "[Perceptron] max_num_iterations = 54 reached\n",
      "[Perceptron] max_num_iterations = 55 reached\n",
      "[Perceptron] max_num_iterations = 56 reached\n",
      "[Perceptron] max_num_iterations = 57 reached\n",
      "[Perceptron] max_num_iterations = 58 reached\n",
      "[Perceptron] max_num_iterations = 59 reached\n",
      "[Perceptron] max_num_iterations = 60 reached\n",
      "[Perceptron] max_num_iterations = 61 reached\n",
      "[Perceptron] max_num_iterations = 62 reached\n",
      "[Perceptron] max_num_iterations = 63 reached\n",
      "[Perceptron] max_num_iterations = 64 reached\n",
      "[Perceptron] max_num_iterations = 65 reached\n",
      "[Perceptron] max_num_iterations = 66 reached\n",
      "[Perceptron] max_num_iterations = 67 reached\n",
      "[Perceptron] max_num_iterations = 68 reached\n",
      "[Perceptron] max_num_iterations = 69 reached\n",
      "[Perceptron] max_num_iterations = 70 reached\n",
      "[Perceptron] max_num_iterations = 71 reached\n",
      "[Perceptron] max_num_iterations = 72 reached\n",
      "[Perceptron] max_num_iterations = 73 reached\n",
      "[Perceptron] max_num_iterations = 74 reached\n",
      "[Perceptron] max_num_iterations = 75 reached\n",
      "[Perceptron] max_num_iterations = 76 reached\n",
      "[Perceptron] max_num_iterations = 77 reached\n",
      "[Perceptron] max_num_iterations = 78 reached\n",
      "[Perceptron] max_num_iterations = 79 reached\n",
      "[Perceptron] max_num_iterations = 80 reached\n",
      "[Perceptron] max_num_iterations = 81 reached\n",
      "[Perceptron] max_num_iterations = 82 reached\n",
      "[Perceptron] max_num_iterations = 83 reached\n",
      "[Perceptron] max_num_iterations = 84 reached\n",
      "[Perceptron] max_num_iterations = 85 reached\n",
      "[Perceptron] max_num_iterations = 86 reached\n",
      "[Perceptron] max_num_iterations = 87 reached\n",
      "[Perceptron] max_num_iterations = 88 reached\n",
      "[Perceptron] max_num_iterations = 89 reached\n",
      "[Perceptron] max_num_iterations = 90 reached\n",
      "[Perceptron] max_num_iterations = 91 reached\n",
      "[Perceptron] max_num_iterations = 92 reached\n",
      "[Perceptron] max_num_iterations = 93 reached\n",
      "[Perceptron] max_num_iterations = 94 reached\n",
      "[Perceptron] max_num_iterations = 95 reached\n",
      "[Perceptron] max_num_iterations = 96 reached\n",
      "[Perceptron] max_num_iterations = 97 reached\n",
      "[Perceptron] max_num_iterations = 98 reached\n",
      "[Perceptron] max_num_iterations = 99 reached\n",
      "[Perceptron] max_num_iterations = 100 reached\n",
      "[Perceptron] max_num_iterations = 150 reached\n",
      "[Perceptron] max_num_iterations = 200 reached\n",
      "[Perceptron] max_num_iterations = 250 reached\n",
      "[Perceptron] max_num_iterations = 300 reached\n",
      "[Perceptron] max_num_iterations = 350 reached\n",
      "[Perceptron] max_num_iterations = 400 reached\n",
      "[Perceptron] max_num_iterations = 450 reached\n",
      "[Perceptron] max_num_iterations = 500 reached\n",
      "[Perceptron] max_num_iterations = 550 reached\n",
      "[Perceptron] max_num_iterations = 600 reached\n",
      "[Perceptron] max_num_iterations = 650 reached\n",
      "[Perceptron] max_num_iterations = 700 reached\n",
      "[Perceptron] max_num_iterations = 750 reached\n",
      "[Perceptron] max_num_iterations = 800 reached\n",
      "[Perceptron] max_num_iterations = 850 reached\n",
      "[Perceptron] max_num_iterations = 900 reached\n",
      "[Perceptron] max_num_iterations = 950 reached\n",
      "[Perceptron] max_num_iterations = 1000 reached\n",
      "[Perceptron] max_num_iterations = 1500 reached\n",
      "[Perceptron] max_num_iterations = 2000 reached\n",
      "[Perceptron] max_num_iterations = 2500 reached\n",
      "[Perceptron] max_num_iterations = 3000 reached\n",
      "[Perceptron] max_num_iterations = 3500 reached\n",
      "[Perceptron] max_num_iterations = 4000 reached\n",
      "[Perceptron] max_num_iterations = 4500 reached\n",
      "[Perceptron] max_num_iterations = 5000 reached\n",
      "[Perceptron] max_num_iterations = 5500 reached\n",
      "[Perceptron] max_num_iterations = 6000 reached\n",
      "[Perceptron] max_num_iterations = 6500 reached\n",
      "[Perceptron] max_num_iterations = 7000 reached\n",
      "[Perceptron] max_num_iterations = 7500 reached\n",
      "[Perceptron] max_num_iterations = 8000 reached\n",
      "[Perceptron] max_num_iterations = 8500 reached\n",
      "[Perceptron] max_num_iterations = 9000 reached\n",
      "[Perceptron] max_num_iterations = 9500 reached\n",
      "[Perceptron] max_num_iterations = 10000 reached\n"
     ]
    }
   ],
   "source": [
    "# plots\n",
    "\n",
    "n_value = [[i for i in range(0, 100)], [i for i in range(100, 1000, 50)], [i for i in range(1000, 10500, 500)]]\n",
    "error_value = [[], [], []]\n",
    "true_loss_value = [[], [], []]\n",
    "for j, val in enumerate(n_value):\n",
    "    for n in val:\n",
    "        w_found, error = perceptron(X_training,Y_training, n)\n",
    "        #print(\"Error (%i iterations) =\" %n, error)\n",
    "        error_value[j].append(error)\n",
    "\n",
    "        num_errors = 0.\n",
    "\n",
    "        for i in range(m_test):\n",
    "            if Y_test[i]*np.dot(X_test[i], w_found) <= 0: num_errors += 1\n",
    "\n",
    "        true_loss_estimate = num_errors/m_test\n",
    "        #print(\"True loss estimate (%i iterations) =\" %n, true_loss_estimate)\n",
    "        true_loss_value[j].append(true_loss_estimate)"
   ]
  },
  {
   "cell_type": "code",
   "execution_count": 11,
   "metadata": {},
   "outputs": [
    {
     "data": {
      "image/png": "[encoded data removed]",
      "text/plain": [
       "<Figure size 432x288 with 1 Axes>"
      ]
     },
     "metadata": {
      "needs_background": "light"
     },
     "output_type": "display_data"
    },
    {
     "data": {
      "image/png": "[encoded data removed]",
      "text/plain": [
       "<Figure size 432x288 with 1 Axes>"
      ]
     },
     "metadata": {
      "needs_background": "light"
     },
     "output_type": "display_data"
    },
    {
     "data": {
      "image/png": "[encoded data removed]",
      "text/plain": [
       "<Figure size 432x288 with 1 Axes>"
      ]
     },
     "metadata": {
      "needs_background": "light"
     },
     "output_type": "display_data"
    }
   ],
   "source": [
    "for n, e, tl in zip(n_value, error_value, true_loss_value):\n",
    "    plt.xlabel(\"Max number of iterations\")\n",
    "    plt.plot(n, e, 'rx',label=\"Error\")\n",
    "    plt.plot(n, tl, 'b+', label=\"True Loss\")\n",
    "    plt.legend()\n",
    "    plt.show()"
   ]
  },
  {
   "cell_type": "markdown",
   "metadata": {},
   "source": [
    "# Logistic Regression\n",
    "Now we use logistic regression, as implemented in Scikit-learn, to predict labels. We will also plot the decision region of logistic regression.\n",
    "\n",
    "We first load the dataset again."
   ]
  },
  {
   "cell_type": "code",
   "execution_count": 12,
   "metadata": {},
   "outputs": [
    {
     "name": "stdout",
     "output_type": "stream",
     "text": [
      "['Position', 'Height cm', 'kg', 'Age']\n"
     ]
    }
   ],
   "source": [
    "filename = 'data/NBA.csv'\n",
    "NBA = csv.reader(open(filename, newline=''), delimiter=',')\n",
    "\n",
    "header = next(NBA)\n",
    "print(header)\n",
    "\n",
    "dataset = list(NBA)\n",
    "for i in range(len(dataset)):\n",
    "    dataset[i] = [int(x) for x in dataset[i]]\n",
    "    \n",
    "dataset = np.asarray(dataset)\n",
    "\n",
    "X = dataset[:,1:]\n",
    "Y = dataset[:,0]\n",
    "\n",
    "Y = Y*2-1  # set labels to -1, 1 as required by perceptron implementation\n",
    "\n",
    "m = dataset.shape[0]\n",
    "permutation = np.random.permutation(m)\n",
    "\n",
    "X = X[permutation]\n",
    "Y = Y[permutation]"
   ]
  },
  {
   "cell_type": "markdown",
   "metadata": {},
   "source": [
    "**TO DO** As for the previous part, divide the data into training and test (50%-50%) and add a 1 as first component to each sample."
   ]
  },
  {
   "cell_type": "code",
   "execution_count": 13,
   "metadata": {},
   "outputs": [
    {
     "name": "stdout",
     "output_type": "stream",
     "text": [
      "Y_training = [-1  1 -1 -1 -1  1  1 -1  1  1  1  1 -1  1  1  1 -1 -1 -1 -1 -1  1  1 -1\n",
      "  1  1 -1  1 -1 -1  1  1  1  1  1 -1 -1 -1  1 -1 -1 -1  1 -1 -1  1  1 -1\n",
      " -1  1  1  1  1 -1  1 -1 -1  1 -1 -1  1  1  1  1 -1  1 -1 -1  1  1 -1 -1\n",
      "  1 -1  1  1  1 -1  1 -1 -1 -1 -1  1 -1  1 -1  1 -1 -1 -1  1  1 -1 -1  1\n",
      "  1 -1  1 -1  1 -1 -1  1  1  1 -1  1  1  1  1 -1  1  1 -1  1  1  1  1  1\n",
      "  1  1 -1  1  1  1  1 -1  1 -1]\n",
      "# '-1' in Y_training = 58\n",
      "# '+1' in Y_training = 72\n"
     ]
    }
   ],
   "source": [
    "#Divide in training and test: make sure that your training set\n",
    "#contains at least 10 elements from class 1 and at least 10 elements\n",
    "#from class -1! If it does not, modify the code so to apply more random\n",
    "#permutations (or the same permutation multiple times) until this happens.\n",
    "#IMPORTANT: do not change the random seed.\n",
    "\n",
    "\n",
    "m_training = len(X[:,0]) // 2 #COMPLETE\n",
    "m_test = len(X[:, 0]) - m_training #COMPLETE\n",
    "\n",
    "X_training = X[:m_training, :] #COMPLETE\n",
    "Y_training = Y[:m_training]#COMPLETE\n",
    "\n",
    "X_test = X[m_training:, :]#COMPLETE\n",
    "Y_test = Y[m_training:]#COMPLETE\n",
    "\n",
    "print(\"Y_training =\", Y_training) #to make sure that Y_training contains both 1 and -1\n",
    "print(\"# \\'-1\\' in Y_training =\", list(Y_training).count(-1))\n",
    "print(\"# \\'+1\\' in Y_training =\", list(Y_training).count( 1))"
   ]
  },
  {
   "cell_type": "markdown",
   "metadata": {},
   "source": [
    "To define a logistic regression model in Scikit-learn use the instruction\n",
    "\n",
    "$linear\\_model.LogisticRegression(C=1e5)$\n",
    "\n",
    "($C$ is a parameter related to *regularization*, a technique that\n",
    "we will see later in the course. Setting it to a high value is almost\n",
    "as ignoring regularization, so the instruction above corresponds to the\n",
    "logistic regression you have seen in the lecture.)\n",
    "\n",
    "To learn the model you need to use the $fit(...)$ instruction and to predict you need to use the $predict(...)$ function. See the Scikit-learn documentation for how to use it.\n",
    "\n",
    "**TO DO** Define the logistic regression model, then learn the model using the training set and predict on the test set. Then print the fraction of samples missclassified in the training set and in the test set."
   ]
  },
  {
   "cell_type": "code",
   "execution_count": 14,
   "metadata": {},
   "outputs": [
    {
     "name": "stdout",
     "output_type": "stream",
     "text": [
      "Error rate on training set: 0.06923076923076923\n",
      "Error rate on test set: 0.07692307692307693\n"
     ]
    },
    {
     "name": "stderr",
     "output_type": "stream",
     "text": [
      "D:\\Anaconda3\\lib\\site-packages\\sklearn\\linear_model\\logistic.py:432: FutureWarning: Default solver will be changed to 'lbfgs' in 0.22. Specify a solver to silence this warning.\n",
      "  FutureWarning)\n"
     ]
    }
   ],
   "source": [
    "#part on logistic regression for 2 classes\n",
    "logreg = linear_model.LogisticRegression(C = 1e5) #COMPLETE\n",
    "\n",
    "#learn from training set\n",
    "\n",
    "#ADD CODE!\n",
    "logreg.fit(X_training, Y_training)\n",
    "\n",
    "#predict on training set\n",
    "\n",
    "#ADD CODE!\n",
    "Y_training_predict = logreg.predict(X_training)\n",
    "\n",
    "#print the error rate = fraction of missclassified samples\n",
    "#ADD CODE!\n",
    "num_errors = 0\n",
    "\n",
    "for i in range(m_training):\n",
    "    if Y_training[i]*Y_training_predict[i] <= 0: num_errors += 1\n",
    "\n",
    "error_rate_training = num_errors / m_training\n",
    "\n",
    "print(\"Error rate on training set: \"+str(error_rate_training))\n",
    "\n",
    "#predict on test set\n",
    "\n",
    "#ADD CODE!\n",
    "Y_test_predict = logreg.predict(X_test)\n",
    "\n",
    "#print the error rate = fraction of missclassified samples\n",
    "#ADD CODE!\n",
    "num_errors = 0\n",
    "\n",
    "for i in range(m_test):\n",
    "    if Y_test[i]*Y_test_predict[i] <= 0: num_errors += 1\n",
    "\n",
    "error_rate_test = num_errors / m_test\n",
    "\n",
    "print(\"Error rate on test set: \" + str(error_rate_test))"
   ]
  },
  {
   "cell_type": "markdown",
   "metadata": {},
   "source": [
    "**TO DO** Now pick two features and restrict the dataset to include only two features, whose indices are specified in the $feature$ vector below. Then split into training and test. Which features are you going to select ?"
   ]
  },
  {
   "cell_type": "code",
   "execution_count": 15,
   "metadata": {},
   "outputs": [],
   "source": [
    "#to make the plot we need to reduce the data to 2D, so we choose two features\n",
    "features_list = ['height', 'weight', 'age']\n",
    "labels_list = ['Center', 'Point guard']\n",
    "\n",
    "index_feature1 = 0 #COMPLETE\n",
    "index_feature2 = 1 #COMPLETE\n",
    "features = [index_feature1, index_feature2]\n",
    "\n",
    "feature_name0 = features_list[features[0]]\n",
    "feature_name1 = features_list[features[1]]\n",
    "\n",
    "X_reduced = X[:,features]\n",
    "\n",
    "X_training = X_reduced[:m_training, :] #COMPLETE\n",
    "Y_training = Y[:m_training]#COMPLETE\n",
    "\n",
    "X_test = X_reduced[m_training:, :]#COMPLETE\n",
    "Y_test = Y[m_training:]#COMPLETE"
   ]
  },
  {
   "cell_type": "markdown",
   "metadata": {},
   "source": [
    "Now learn a model using the training data."
   ]
  },
  {
   "cell_type": "code",
   "execution_count": 16,
   "metadata": {},
   "outputs": [
    {
     "name": "stderr",
     "output_type": "stream",
     "text": [
      "D:\\Anaconda3\\lib\\site-packages\\sklearn\\linear_model\\logistic.py:432: FutureWarning: Default solver will be changed to 'lbfgs' in 0.22. Specify a solver to silence this warning.\n",
      "  FutureWarning)\n"
     ]
    },
    {
     "data": {
      "text/plain": [
       "LogisticRegression(C=100000.0, class_weight=None, dual=False,\n",
       "          fit_intercept=True, intercept_scaling=1, max_iter=100,\n",
       "          multi_class='warn', n_jobs=None, penalty='l2', random_state=None,\n",
       "          solver='warn', tol=0.0001, verbose=0, warm_start=False)"
      ]
     },
     "execution_count": 16,
     "metadata": {},
     "output_type": "execute_result"
    }
   ],
   "source": [
    "#ADD CODE! (only for learning from training data)\n",
    "logreg = linear_model.LogisticRegression(C = 1e5)\n",
    "logreg.fit(X_training, Y_training)"
   ]
  },
  {
   "cell_type": "markdown",
   "metadata": {},
   "source": [
    "If everything is ok, the code below uses the model in $logreg$ to plot the decision region for the two features chosen above, with colors denoting the predicted value. It also plots the points (with correct labels) in the training set. It makes a similar plot for the test set."
   ]
  },
  {
   "cell_type": "code",
   "execution_count": 17,
   "metadata": {},
   "outputs": [
    {
     "data": {
      "image/png": "[encoded data removed]",
      "text/plain": [
       "<Figure size 288x216 with 1 Axes>"
      ]
     },
     "metadata": {},
     "output_type": "display_data"
    },
    {
     "data": {
      "image/png": "[encoded data removed]",
      "text/plain": [
       "<Figure size 288x216 with 1 Axes>"
      ]
     },
     "metadata": {},
     "output_type": "display_data"
    }
   ],
   "source": [
    "# Plot the decision boundary. For that, we will assign a color to each\n",
    "# point in the mesh [x_min, x_max]x[y_min, y_max].\n",
    "h = .02  # step size in the mesh\n",
    "x_min, x_max = X_reduced[:, 0].min() - .5, X_reduced[:, 0].max() + .5\n",
    "y_min, y_max = X_reduced[:, 1].min() - .5, X_reduced[:, 1].max() + .5\n",
    "xx, yy = np.meshgrid(np.arange(x_min, x_max, h), np.arange(y_min, y_max, h))\n",
    "\n",
    "Z = logreg.predict(np.c_[xx.ravel(), yy.ravel()])\n",
    "\n",
    "# Put the result into a color plot\n",
    "Z = Z.reshape(xx.shape)\n",
    "\n",
    "plt.figure(1, figsize=(4, 3))\n",
    "plt.pcolormesh(xx, yy, Z, cmap=plt.cm.Paired)\n",
    "\n",
    "# Plot also the training points\n",
    "plt.scatter(X_training[:, 0], X_training[:, 1], c=Y_training, edgecolors='k', cmap=plt.cm.Paired)\n",
    "plt.xlabel(feature_name0)\n",
    "plt.ylabel(feature_name1)\n",
    "\n",
    "plt.xlim(xx.min(), xx.max())\n",
    "plt.ylim(yy.min(), yy.max())\n",
    "plt.xticks(())\n",
    "plt.yticks(())\n",
    "plt.title('Training set')\n",
    "\n",
    "plt.show()\n",
    "\n",
    "# Put the result into a color plot\n",
    "Z = Z.reshape(xx.shape)\n",
    "plt.figure(1, figsize=(4, 3))\n",
    "plt.pcolormesh(xx, yy, Z, cmap=plt.cm.Paired)\n",
    "\n",
    "# Plot also the test points \n",
    "plt.scatter(X_test[:, 0], X_test[:, 1], c=Y_test, edgecolors='k', cmap=plt.cm.Paired, marker='s')\n",
    "plt.xlabel(feature_name0)\n",
    "plt.ylabel(feature_name1)\n",
    "\n",
    "plt.xlim(xx.min(), xx.max())\n",
    "plt.ylim(yy.min(), yy.max())\n",
    "plt.xticks(())\n",
    "plt.yticks(())\n",
    "plt.title('Test set')\n",
    "\n",
    "plt.show()"
   ]
  },
  {
   "cell_type": "code",
   "execution_count": null,
   "metadata": {},
   "outputs": [],
   "source": []
  }
 ],
 "metadata": {
  "anaconda-cloud": {},
  "kernelspec": {
   "display_name": "Python 3",
   "language": "python",
   "name": "python3"
  },
  "language_info": {
   "codemirror_mode": {
    "name": "ipython",
    "version": 3
   },
   "file_extension": ".py",
   "mimetype": "text/x-python",
   "name": "python",
   "nbconvert_exporter": "python",
   "pygments_lexer": "ipython3",
   "version": "3.7.1"
  }
 },
 "nbformat": 4,
 "nbformat_minor": 2
}
