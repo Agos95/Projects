{
 "cells": [
  {
   "cell_type": "markdown",
   "metadata": {},
   "source": [
    "# Neural Networks\n",
    "\n",
    "In this notebook we are going to explore the Neural Networks for image classification. We are going to use the same dataset of the SVM notebook: Fashion MNIST (https://pravarmahajan.github.io/fashion/), a dataset of small images of clothes and accessories.\n",
    "\n",
    "The dataset labels are the following:\n",
    "\n",
    "| Label | Description |\n",
    "| --- | --- |\n",
    "| 0 | T-shirt/top |\n",
    "| 1 | Trouser |\n",
    "| 2 | Pullover |\n",
    "| 3 | Dress |\n",
    "| 4 | Coat |\n",
    "| 5 | Sandal |\n",
    "| 6 | Shirt |\n",
    "| 7 | Sneaker |\n",
    "| 8 | Bag |\n",
    "| 9 | Ankle boot |"
   ]
  },
  {
   "cell_type": "code",
   "execution_count": 1,
   "metadata": {},
   "outputs": [],
   "source": [
    "#load the required packages\n",
    "\n",
    "%matplotlib inline  \n",
    "\n",
    "import numpy as np\n",
    "import scipy as sp\n",
    "import matplotlib.pyplot as plt\n",
    "import pandas as pd\n",
    "\n",
    "import sklearn\n",
    "from sklearn.neural_network import MLPClassifier\n",
    "from sklearn.model_selection import GridSearchCV\n",
    "from sklearn.svm import SVC"
   ]
  },
  {
   "cell_type": "code",
   "execution_count": 2,
   "metadata": {},
   "outputs": [],
   "source": [
    "# helper function to load Fashion MNIST dataset from disk\n",
    "def load_mnist(path, kind='train'):\n",
    "    import os\n",
    "    import gzip\n",
    "    import numpy as np\n",
    "    labels_path = os.path.join(path, '%s-labels-idx1-ubyte.gz' % kind)\n",
    "    images_path = os.path.join(path, '%s-images-idx3-ubyte.gz' % kind)\n",
    "    with gzip.open(labels_path, 'rb') as lbpath:\n",
    "        labels = np.frombuffer(lbpath.read(), dtype=np.uint8,offset=8)\n",
    "    with gzip.open(images_path, 'rb') as imgpath:\n",
    "        images = np.frombuffer(imgpath.read(), dtype=np.uint8,offset=16).reshape(len(labels), 784)\n",
    "    return images, labels"
   ]
  },
  {
   "cell_type": "markdown",
   "metadata": {},
   "source": [
    "# TODO \n",
    "Place your ID (\"numero di matricola\") that will be used as seed for random generator. You can try to change the seed to see the impact of the randomization."
   ]
  },
  {
   "cell_type": "code",
   "execution_count": 3,
   "metadata": {},
   "outputs": [],
   "source": [
    "ID = 1205462\n",
    "np.random.seed(ID)"
   ]
  },
  {
   "cell_type": "code",
   "execution_count": 4,
   "metadata": {},
   "outputs": [],
   "source": [
    "#load the MNIST dataset and let's normalize the features so that each value is in [0,1]\n",
    "X, y = load_mnist(\"data\")\n",
    "# rescale the data\n",
    "X = X / 255.0"
   ]
  },
  {
   "cell_type": "markdown",
   "metadata": {},
   "source": [
    "Now split into training and test. Make sure that each label is present at least 10 times\n",
    "in training frequencies."
   ]
  },
  {
   "cell_type": "code",
   "execution_count": 5,
   "metadata": {},
   "outputs": [
    {
     "name": "stdout",
     "output_type": "stream",
     "text": [
      "Labels in training dataset:  [0 1 2 3 4 5 6 7 8 9]\n",
      "Frequencies in training dataset:  [50 49 44 46 57 54 49 45 56 50]\n"
     ]
    }
   ],
   "source": [
    "#random permute the data and split into training and test taking the first 500\n",
    "#data samples as training and the rests as test\n",
    "permutation = np.random.permutation(X.shape[0])\n",
    "\n",
    "X = X[permutation]\n",
    "y = y[permutation]\n",
    "\n",
    "m_training = 500\n",
    "\n",
    "X_train, X_test = X[:m_training], X[m_training:]\n",
    "y_train, y_test = y[:m_training], y[m_training:]\n",
    "\n",
    "labels, freqs = np.unique(y_train, return_counts=True)\n",
    "print(\"Labels in training dataset: \", labels)\n",
    "print(\"Frequencies in training dataset: \", freqs)\n"
   ]
  },
  {
   "cell_type": "code",
   "execution_count": 6,
   "metadata": {},
   "outputs": [],
   "source": [
    "#function for plotting a image and printing the corresponding label\n",
    "def plot_input(X_matrix, labels, index):\n",
    "    print(\"INPUT:\")\n",
    "    plt.imshow(\n",
    "        X_matrix[index].reshape(28,28),\n",
    "        cmap          = plt.cm.gray_r,\n",
    "        interpolation = \"nearest\"\n",
    "    )\n",
    "    plt.show()\n",
    "    print(\"LABEL: %i\"%labels[index])\n",
    "    return"
   ]
  },
  {
   "cell_type": "code",
   "execution_count": 7,
   "metadata": {},
   "outputs": [
    {
     "name": "stdout",
     "output_type": "stream",
     "text": [
      "INPUT:\n"
     ]
    },
    {
     "data": {
      "image/png": "[encoded data removed]",
      "text/plain": [
       "<Figure size 432x288 with 1 Axes>"
      ]
     },
     "metadata": {
      "needs_background": "light"
     },
     "output_type": "display_data"
    },
    {
     "name": "stdout",
     "output_type": "stream",
     "text": [
      "LABEL: 4\n",
      "INPUT:\n"
     ]
    },
    {
     "data": {
      "image/png": "[encoded data removed]",
      "text/plain": [
       "<Figure size 432x288 with 1 Axes>"
      ]
     },
     "metadata": {
      "needs_background": "light"
     },
     "output_type": "display_data"
    },
    {
     "name": "stdout",
     "output_type": "stream",
     "text": [
      "LABEL: 1\n",
      "INPUT:\n"
     ]
    },
    {
     "data": {
      "image/png": "[encoded data removed]",
      "text/plain": [
       "<Figure size 432x288 with 1 Axes>"
      ]
     },
     "metadata": {
      "needs_background": "light"
     },
     "output_type": "display_data"
    },
    {
     "name": "stdout",
     "output_type": "stream",
     "text": [
      "LABEL: 3\n"
     ]
    }
   ],
   "source": [
    "#let's try the plotting function\n",
    "plot_input(X_train,y_train,10)\n",
    "plot_input(X_test,y_test,100)\n",
    "plot_input(X_test,y_test,10000)"
   ]
  },
  {
   "cell_type": "markdown",
   "metadata": {},
   "source": [
    "## TO DO 1\n",
    "\n",
    "Now use a Feed-forward Neural Network for prediction. Use the multi-layer perceptron classifier, with the following parameters: max_iter=300, alpha=1e-4, solver='sgd', tol=1e-4, learning_rate_init=.1, random_state=ID (this last parameter ensures the run is the same even if you run it more than once). The alpha parameter is the regularization term.\n",
    "\n",
    "Then, using the default activation function, pick four or five architectures to consider, with different numbers of hidden layers and different sizes. It is not necessary to create huge neural networks, you can limit to 3 layers and, for each layer, its maximum size can be of 100. Evaluate the architectures you chose using the GridSearchCV with cv=5.\n"
   ]
  },
  {
   "cell_type": "code",
   "execution_count": 8,
   "metadata": {},
   "outputs": [
    {
     "name": "stderr",
     "output_type": "stream",
     "text": [
      "/mnt/d/WindowsSubSystemForLinux/anaconda3/lib/python3.7/site-packages/sklearn/model_selection/_search.py:841: DeprecationWarning: The default of the `iid` parameter will change from True to False in version 0.22 and will be removed in 0.24. This will change numeric results when test-set sizes are unequal.\n",
      "  DeprecationWarning)\n"
     ]
    },
    {
     "name": "stdout",
     "output_type": "stream",
     "text": [
      "RESULTS FOR NN\n",
      "\n",
      "Best parameters set found: {'hidden_layer_sizes': (50,)}\n",
      "Score with best parameters: 0.744\n",
      "\n",
      "All scores on the grid:\n"
     ]
    },
    {
     "data": {
      "text/html": [
       "<div>\n",
       "<style scoped>\n",
       "    .dataframe tbody tr th:only-of-type {\n",
       "        vertical-align: middle;\n",
       "    }\n",
       "\n",
       "    .dataframe tbody tr th {\n",
       "        vertical-align: top;\n",
       "    }\n",
       "\n",
       "    .dataframe thead th {\n",
       "        text-align: right;\n",
       "    }\n",
       "</style>\n",
       "<table border=\"1\" class=\"dataframe\">\n",
       "  <thead>\n",
       "    <tr style=\"text-align: right;\">\n",
       "      <th></th>\n",
       "      <th>params</th>\n",
       "      <th>mean_test_score</th>\n",
       "    </tr>\n",
       "  </thead>\n",
       "  <tbody>\n",
       "    <tr>\n",
       "      <th>0</th>\n",
       "      <td>{'hidden_layer_sizes': (10,)}</td>\n",
       "      <td>0.722</td>\n",
       "    </tr>\n",
       "    <tr>\n",
       "      <th>1</th>\n",
       "      <td>{'hidden_layer_sizes': (50,)}</td>\n",
       "      <td>0.744</td>\n",
       "    </tr>\n",
       "    <tr>\n",
       "      <th>2</th>\n",
       "      <td>{'hidden_layer_sizes': (10, 10)}</td>\n",
       "      <td>0.502</td>\n",
       "    </tr>\n",
       "    <tr>\n",
       "      <th>3</th>\n",
       "      <td>{'hidden_layer_sizes': (50, 50)}</td>\n",
       "      <td>0.678</td>\n",
       "    </tr>\n",
       "    <tr>\n",
       "      <th>4</th>\n",
       "      <td>{'hidden_layer_sizes': (10, 10, 10)}</td>\n",
       "      <td>0.260</td>\n",
       "    </tr>\n",
       "    <tr>\n",
       "      <th>5</th>\n",
       "      <td>{'hidden_layer_sizes': (50, 50, 50)}</td>\n",
       "      <td>0.606</td>\n",
       "    </tr>\n",
       "  </tbody>\n",
       "</table>\n",
       "</div>"
      ],
      "text/plain": [
       "                                 params  mean_test_score\n",
       "0         {'hidden_layer_sizes': (10,)}            0.722\n",
       "1         {'hidden_layer_sizes': (50,)}            0.744\n",
       "2      {'hidden_layer_sizes': (10, 10)}            0.502\n",
       "3      {'hidden_layer_sizes': (50, 50)}            0.678\n",
       "4  {'hidden_layer_sizes': (10, 10, 10)}            0.260\n",
       "5  {'hidden_layer_sizes': (50, 50, 50)}            0.606"
      ]
     },
     "execution_count": 8,
     "metadata": {},
     "output_type": "execute_result"
    }
   ],
   "source": [
    "parameters = {'hidden_layer_sizes': [(10,), (50,), (10,10,), (50,50,), (10, 10, 10,), (50, 50, 50,)]}\n",
    "\n",
    "mlp = MLPClassifier(max_iter=300, alpha=1e-4,\n",
    "                    solver='sgd', tol=1e-4, random_state=ID,\n",
    "                    learning_rate_init=.1)\n",
    "\n",
    "#ADD YOUR CODE\n",
    "clf = GridSearchCV(estimator=mlp, param_grid=parameters, cv=5, return_train_score=True)\n",
    "clf.fit(X_train, y_train)\n",
    "print ('RESULTS FOR NN\\n')\n",
    "\n",
    "print(\"Best parameters set found:\", clf.best_params_)\n",
    "#ADD YOUR CODE\n",
    "\n",
    "print(\"Score with best parameters:\", clf.best_score_)\n",
    "#ADD YOUR CODE\n",
    "\n",
    "print(\"\\nAll scores on the grid:\")\n",
    "#ADD YOUR CODE\n",
    "results = pd.DataFrame(clf.cv_results_)\n",
    "results[[\"params\", \"mean_test_score\"]]"
   ]
  },
  {
   "cell_type": "markdown",
   "metadata": {},
   "source": [
    "### QUESTION 1\n",
    "\n",
    "**What do you observe for different architectures and their scores? How the nummber of layers and their sizes affect the performances?**"
   ]
  },
  {
   "cell_type": "markdown",
   "metadata": {
    "collapsed": true
   },
   "source": [
    "In my test, the best score is obtained for a network with only one hidden layer, with size equal to 50. Performances seems to downgrade if I add more hidden layers; in addition, the size of the layers appears to be not so important when the number of layers is very small, but it starts to depend heavily on the size when the numbets of layers increase. In this last case, NN with layers with small size perform worser than the others."
   ]
  },
  {
   "cell_type": "markdown",
   "metadata": {},
   "source": [
    "### TO DO 2\n",
    "\n",
    "Now get training and test error for a NN with best parameters from above. Use verbose=True\n",
    "in input so to see how loss changes in iterations"
   ]
  },
  {
   "cell_type": "code",
   "execution_count": 9,
   "metadata": {},
   "outputs": [
    {
     "name": "stdout",
     "output_type": "stream",
     "text": [
      "Iteration 1, loss = 2.39308069\n",
      "Iteration 2, loss = 1.52733447\n",
      "Iteration 3, loss = 1.22563619\n",
      "Iteration 4, loss = 2.00180857\n",
      "Iteration 5, loss = 0.97492321\n",
      "Iteration 6, loss = 0.79430823\n",
      "Iteration 7, loss = 0.71088950\n",
      "Iteration 8, loss = 0.60497699\n",
      "Iteration 9, loss = 0.55027378\n",
      "Iteration 10, loss = 0.48542553\n",
      "Iteration 11, loss = 0.44623194\n",
      "Iteration 12, loss = 0.48005167\n",
      "Iteration 13, loss = 0.42789395\n",
      "Iteration 14, loss = 0.37619585\n",
      "Iteration 15, loss = 0.33465815\n",
      "Iteration 16, loss = 0.32293858\n",
      "Iteration 17, loss = 0.28974192\n",
      "Iteration 18, loss = 0.27818810\n",
      "Iteration 19, loss = 0.34877920\n",
      "Iteration 20, loss = 0.24623270\n",
      "Iteration 21, loss = 0.26610449\n",
      "Iteration 22, loss = 0.23987543\n",
      "Iteration 23, loss = 0.18849608\n",
      "Iteration 24, loss = 0.17787357\n",
      "Iteration 25, loss = 0.17032104\n",
      "Iteration 26, loss = 0.21240328\n",
      "Iteration 27, loss = 0.16133658\n",
      "Iteration 28, loss = 0.16010318\n",
      "Iteration 29, loss = 0.16402800\n",
      "Iteration 30, loss = 0.12321557\n",
      "Iteration 31, loss = 0.13508082\n",
      "Iteration 32, loss = 0.17956920\n",
      "Iteration 33, loss = 0.21225446\n",
      "Iteration 34, loss = 0.09963194\n",
      "Iteration 35, loss = 0.13365342\n",
      "Iteration 36, loss = 0.09770691\n",
      "Iteration 37, loss = 0.08377053\n",
      "Iteration 38, loss = 0.09631623\n",
      "Iteration 39, loss = 0.07290603\n",
      "Iteration 40, loss = 0.06962151\n",
      "Iteration 41, loss = 0.06391045\n",
      "Iteration 42, loss = 0.06437613\n",
      "Iteration 43, loss = 0.05190658\n",
      "Iteration 44, loss = 0.05259994\n",
      "Iteration 45, loss = 0.06512870\n",
      "Iteration 46, loss = 0.05190923\n",
      "Iteration 47, loss = 0.04387685\n",
      "Iteration 48, loss = 0.03956903\n",
      "Iteration 49, loss = 0.03588567\n",
      "Iteration 50, loss = 0.03939238\n",
      "Iteration 51, loss = 0.03850515\n",
      "Iteration 52, loss = 0.03191557\n",
      "Iteration 53, loss = 0.03269178\n",
      "Iteration 54, loss = 0.02944100\n",
      "Iteration 55, loss = 0.02983561\n",
      "Iteration 56, loss = 0.02761907\n",
      "Iteration 57, loss = 0.02505472\n",
      "Iteration 58, loss = 0.02700479\n",
      "Iteration 59, loss = 0.02378108\n",
      "Iteration 60, loss = 0.02183695\n",
      "Iteration 61, loss = 0.02242366\n",
      "Iteration 62, loss = 0.02119370\n",
      "Iteration 63, loss = 0.02170811\n",
      "Iteration 64, loss = 0.01942584\n",
      "Iteration 65, loss = 0.01948106\n",
      "Iteration 66, loss = 0.02037043\n",
      "Iteration 67, loss = 0.01899659\n",
      "Iteration 68, loss = 0.01810998\n",
      "Iteration 69, loss = 0.01612410\n",
      "Iteration 70, loss = 0.01595221\n",
      "Iteration 71, loss = 0.01449950\n",
      "Iteration 72, loss = 0.01430526\n",
      "Iteration 73, loss = 0.01392497\n",
      "Iteration 74, loss = 0.01391446\n",
      "Iteration 75, loss = 0.01325495\n",
      "Iteration 76, loss = 0.01323799\n",
      "Iteration 77, loss = 0.01276412\n",
      "Iteration 78, loss = 0.01266463\n",
      "Iteration 79, loss = 0.01189760\n",
      "Iteration 80, loss = 0.01201777\n",
      "Iteration 81, loss = 0.01109446\n",
      "Iteration 82, loss = 0.01086289\n",
      "Iteration 83, loss = 0.01063651\n",
      "Iteration 84, loss = 0.01039501\n",
      "Iteration 85, loss = 0.01012892\n",
      "Iteration 86, loss = 0.00996627\n",
      "Iteration 87, loss = 0.01017691\n",
      "Iteration 88, loss = 0.00951689\n",
      "Iteration 89, loss = 0.00936135\n",
      "Iteration 90, loss = 0.00928320\n",
      "Iteration 91, loss = 0.00894289\n",
      "Iteration 92, loss = 0.00884929\n",
      "Iteration 93, loss = 0.00891645\n",
      "Iteration 94, loss = 0.00844232\n",
      "Iteration 95, loss = 0.00840337\n",
      "Iteration 96, loss = 0.00829027\n",
      "Iteration 97, loss = 0.00794079\n",
      "Iteration 98, loss = 0.00781488\n",
      "Iteration 99, loss = 0.00761467\n",
      "Iteration 100, loss = 0.00748078\n",
      "Iteration 101, loss = 0.00743014\n",
      "Iteration 102, loss = 0.00737630\n",
      "Iteration 103, loss = 0.00719740\n",
      "Iteration 104, loss = 0.00710995\n",
      "Iteration 105, loss = 0.00695046\n",
      "Iteration 106, loss = 0.00686033\n",
      "Iteration 107, loss = 0.00679327\n",
      "Iteration 108, loss = 0.00655709\n",
      "Iteration 109, loss = 0.00652699\n",
      "Iteration 110, loss = 0.00635482\n",
      "Iteration 111, loss = 0.00626523\n",
      "Iteration 112, loss = 0.00623125\n",
      "Iteration 113, loss = 0.00610297\n",
      "Iteration 114, loss = 0.00602852\n",
      "Iteration 115, loss = 0.00595419\n",
      "Iteration 116, loss = 0.00586284\n",
      "Iteration 117, loss = 0.00580147\n",
      "Iteration 118, loss = 0.00568493\n",
      "Iteration 119, loss = 0.00565097\n",
      "Iteration 120, loss = 0.00565965\n",
      "Iteration 121, loss = 0.00545177\n",
      "Iteration 122, loss = 0.00535190\n",
      "Iteration 123, loss = 0.00531745\n",
      "Iteration 124, loss = 0.00535269\n",
      "Iteration 125, loss = 0.00521365\n",
      "Iteration 126, loss = 0.00510257\n",
      "Iteration 127, loss = 0.00504655\n",
      "Iteration 128, loss = 0.00500411\n",
      "Iteration 129, loss = 0.00494208\n",
      "Iteration 130, loss = 0.00487260\n",
      "Iteration 131, loss = 0.00483363\n",
      "Iteration 132, loss = 0.00481857\n",
      "Iteration 133, loss = 0.00479142\n",
      "Iteration 134, loss = 0.00474702\n",
      "Iteration 135, loss = 0.00466468\n",
      "Iteration 136, loss = 0.00461361\n",
      "Iteration 137, loss = 0.00446948\n",
      "Iteration 138, loss = 0.00448716\n",
      "Iteration 139, loss = 0.00436785\n",
      "Iteration 140, loss = 0.00436800\n",
      "Iteration 141, loss = 0.00427823\n",
      "Iteration 142, loss = 0.00423757\n",
      "Iteration 143, loss = 0.00417485\n",
      "Iteration 144, loss = 0.00413941\n",
      "Iteration 145, loss = 0.00411574\n",
      "Iteration 146, loss = 0.00404659\n",
      "Iteration 147, loss = 0.00402152\n",
      "Iteration 148, loss = 0.00397874\n",
      "Iteration 149, loss = 0.00400882\n",
      "Iteration 150, loss = 0.00396762\n",
      "Training loss did not improve more than tol=0.000100 for 10 consecutive epochs. Stopping.\n",
      "\n",
      "RESULTS FOR BEST NN\n",
      "\n",
      "Best NN training error: 0.000000\n",
      "Best NN test error: 0.217227\n"
     ]
    }
   ],
   "source": [
    "#get training and test error for the best NN model from CV\n",
    "\n",
    "#ADD YOUR CODE\n",
    "best_NN = MLPClassifier(hidden_layer_sizes=(50, ), solver='sgd', alpha=1e-4, learning_rate_init=.1, \n",
    "                        max_iter=300,random_state=ID, tol=1e-4, verbose=True)\n",
    "\n",
    "best_NN.fit(X_train, y_train)\n",
    "\n",
    "training_error = 1. - best_NN.score(X_train,y_train) #ADD YOUR CODE\n",
    "test_error = 1. - best_NN.score(X_test,y_test) #ADD YOUR CODE\n",
    "\n",
    "print ('\\nRESULTS FOR BEST NN\\n')\n",
    "\n",
    "print (\"Best NN training error: %f\" % training_error)\n",
    "print (\"Best NN test error: %f\" % test_error)"
   ]
  },
  {
   "cell_type": "markdown",
   "metadata": {},
   "source": [
    "## More data \n",
    "Now let's do the same but using 10000 (or less if it takes too long on your machine) data points for training. Use the same NN architectures as before, but you can try more if you want!"
   ]
  },
  {
   "cell_type": "code",
   "execution_count": 10,
   "metadata": {},
   "outputs": [
    {
     "name": "stdout",
     "output_type": "stream",
     "text": [
      "Labels and frequencies in training dataset: \n"
     ]
    },
    {
     "data": {
      "text/plain": [
       "(array([0, 1, 2, 3, 4, 5, 6, 7, 8, 9], dtype=uint8),\n",
       " array([1012, 1020,  998,  989,  946,  974, 1015, 1017, 1031,  998]))"
      ]
     },
     "execution_count": 10,
     "metadata": {},
     "output_type": "execute_result"
    }
   ],
   "source": [
    "X = X[permutation]\n",
    "y = y[permutation]\n",
    "\n",
    "m_training = 10000\n",
    "\n",
    "X_train, X_test = X[:m_training], X[m_training:]\n",
    "y_train, y_test = y[:m_training], y[m_training:]\n",
    "\n",
    "print(\"Labels and frequencies in training dataset: \")\n",
    "np.unique(y_train, return_counts=True)"
   ]
  },
  {
   "cell_type": "markdown",
   "metadata": {},
   "source": [
    "## TO DO 3\n",
    "\n",
    "Now train the NNs with the added data points. Feel free to try more different architectures than before if you want, or less if it takes too much time. We suggest that you use 'verbose=True' so have an idea of how long it takes to run 1 iteration (eventually reduce also the number of iterations to 50)."
   ]
  },
  {
   "cell_type": "code",
   "execution_count": 11,
   "metadata": {},
   "outputs": [
    {
     "name": "stderr",
     "output_type": "stream",
     "text": [
      "/mnt/d/WindowsSubSystemForLinux/anaconda3/lib/python3.7/site-packages/sklearn/model_selection/_search.py:841: DeprecationWarning: The default of the `iid` parameter will change from True to False in version 0.22 and will be removed in 0.24. This will change numeric results when test-set sizes are unequal.\n",
      "  DeprecationWarning)\n"
     ]
    },
    {
     "name": "stdout",
     "output_type": "stream",
     "text": [
      "\n",
      "RESULTS FOR NN\n",
      "\n",
      "Best parameters set found:\n",
      "{'hidden_layer_sizes': (50,)}\n",
      "Score with best parameters:\n",
      "0.8271\n",
      "\n",
      "All scores on the grid:\n"
     ]
    },
    {
     "data": {
      "text/html": [
       "<div>\n",
       "<style scoped>\n",
       "    .dataframe tbody tr th:only-of-type {\n",
       "        vertical-align: middle;\n",
       "    }\n",
       "\n",
       "    .dataframe tbody tr th {\n",
       "        vertical-align: top;\n",
       "    }\n",
       "\n",
       "    .dataframe thead th {\n",
       "        text-align: right;\n",
       "    }\n",
       "</style>\n",
       "<table border=\"1\" class=\"dataframe\">\n",
       "  <thead>\n",
       "    <tr style=\"text-align: right;\">\n",
       "      <th></th>\n",
       "      <th>params</th>\n",
       "      <th>mean_test_score</th>\n",
       "    </tr>\n",
       "  </thead>\n",
       "  <tbody>\n",
       "    <tr>\n",
       "      <th>0</th>\n",
       "      <td>{'hidden_layer_sizes': (10,)}</td>\n",
       "      <td>0.7225</td>\n",
       "    </tr>\n",
       "    <tr>\n",
       "      <th>1</th>\n",
       "      <td>{'hidden_layer_sizes': (50,)}</td>\n",
       "      <td>0.8271</td>\n",
       "    </tr>\n",
       "    <tr>\n",
       "      <th>2</th>\n",
       "      <td>{'hidden_layer_sizes': (10, 10)}</td>\n",
       "      <td>0.5093</td>\n",
       "    </tr>\n",
       "    <tr>\n",
       "      <th>3</th>\n",
       "      <td>{'hidden_layer_sizes': (50, 50)}</td>\n",
       "      <td>0.7671</td>\n",
       "    </tr>\n",
       "    <tr>\n",
       "      <th>4</th>\n",
       "      <td>{'hidden_layer_sizes': (10, 10, 10)}</td>\n",
       "      <td>0.6276</td>\n",
       "    </tr>\n",
       "    <tr>\n",
       "      <th>5</th>\n",
       "      <td>{'hidden_layer_sizes': (50, 50, 50)}</td>\n",
       "      <td>0.6570</td>\n",
       "    </tr>\n",
       "    <tr>\n",
       "      <th>6</th>\n",
       "      <td>{'hidden_layer_sizes': (10, 10, 10, 10)}</td>\n",
       "      <td>0.4392</td>\n",
       "    </tr>\n",
       "    <tr>\n",
       "      <th>7</th>\n",
       "      <td>{'hidden_layer_sizes': (50, 50, 50, 50)}</td>\n",
       "      <td>0.6702</td>\n",
       "    </tr>\n",
       "  </tbody>\n",
       "</table>\n",
       "</div>"
      ],
      "text/plain": [
       "                                     params  mean_test_score\n",
       "0             {'hidden_layer_sizes': (10,)}           0.7225\n",
       "1             {'hidden_layer_sizes': (50,)}           0.8271\n",
       "2          {'hidden_layer_sizes': (10, 10)}           0.5093\n",
       "3          {'hidden_layer_sizes': (50, 50)}           0.7671\n",
       "4      {'hidden_layer_sizes': (10, 10, 10)}           0.6276\n",
       "5      {'hidden_layer_sizes': (50, 50, 50)}           0.6570\n",
       "6  {'hidden_layer_sizes': (10, 10, 10, 10)}           0.4392\n",
       "7  {'hidden_layer_sizes': (50, 50, 50, 50)}           0.6702"
      ]
     },
     "execution_count": 11,
     "metadata": {},
     "output_type": "execute_result"
    }
   ],
   "source": [
    "#for NN we try the same architectures as before\n",
    "parameters = {'hidden_layer_sizes': [(10,), (50,), (10,10,), (50,50,), (10, 10, 10,), (50, 50, 50,), \n",
    "                                     (10, 10, 10, 10,), (50, 50, 50, 50,)]}\n",
    "\n",
    "#ADD YOUR CODE\n",
    "\n",
    "mlp_large_CV = MLPClassifier(max_iter=300, alpha=1e-4,\n",
    "                             solver='sgd', tol=1e-4, random_state=ID,\n",
    "                             learning_rate_init=.1)\n",
    "\n",
    "clf_large_CV = GridSearchCV(estimator=mlp, param_grid=parameters, cv=5, return_train_score=True)\n",
    "clf_large_CV.fit(X_train, y_train)\n",
    "\n",
    "print ('\\nRESULTS FOR NN\\n')\n",
    "\n",
    "print(\"Best parameters set found:\")\n",
    "print(clf_large_CV.best_params_)\n",
    "\n",
    "print(\"Score with best parameters:\")\n",
    "print(clf_large_CV.best_score_)\n",
    "\n",
    "print(\"\\nAll scores on the grid:\")\n",
    "results_large = pd.DataFrame(clf_large_CV.cv_results_)\n",
    "results_large[[\"params\", \"mean_test_score\"]]"
   ]
  },
  {
   "cell_type": "markdown",
   "metadata": {},
   "source": [
    "## QUESTION 2\n",
    "\n",
    "**Describe your architecture choices and the results you observe with respect to the layers and sizes used.**"
   ]
  },
  {
   "cell_type": "markdown",
   "metadata": {},
   "source": [
    "The best score is obtained for a NN with a single hidden layer of size 50, as before. In this case, however, incresing the number of layers leads to bigger error, but the downgrade is less important than in the previous analysis. As before, larger NN perfor better if they have bigger layers with respect to the ones with the same size, but with smaller layers."
   ]
  },
  {
   "cell_type": "markdown",
   "metadata": {},
   "source": [
    "## TO DO 4\n",
    "\n",
    "Get the train and test error for the best NN you obtained with 10000 points. This time you can run for 100 iterations. \n"
   ]
  },
  {
   "cell_type": "code",
   "execution_count": 12,
   "metadata": {},
   "outputs": [
    {
     "name": "stdout",
     "output_type": "stream",
     "text": [
      "RESULTS FOR BEST NN\n",
      "\n",
      "Best NN training error: 0.012800\n",
      "Best NN test error: 0.160400\n"
     ]
    }
   ],
   "source": [
    "#get training and test error for the best NN model from CV\n",
    "\n",
    "#ADD YOUR CODE\n",
    "\n",
    "best_NN_large = MLPClassifier(hidden_layer_sizes=(50,), solver='sgd', alpha=1e-4, learning_rate_init=.1, \n",
    "                              max_iter=300,random_state=ID, tol=1e-4)\n",
    "\n",
    "best_NN_large.fit(X_train, y_train)\n",
    "\n",
    "training_error = 1. - best_NN_large.score(X_train,y_train) #ADD YOUR CODE\n",
    "test_error     = 1. - best_NN_large.score(X_test,y_test) #ADD YOUR CODE\n",
    "\n",
    "print ('RESULTS FOR BEST NN\\n')\n",
    "\n",
    "print (\"Best NN training error: %f\" % training_error)\n",
    "print (\"Best NN test error: %f\" % test_error)"
   ]
  },
  {
   "cell_type": "markdown",
   "metadata": {},
   "source": [
    "## QUESTION 3\n",
    "\n",
    "**Compare the train and test error you got with a large number of samples with the best one you obtained with only 500 data points. Are the architectures the same or do they differ? What about the errors you get?**"
   ]
  },
  {
   "cell_type": "markdown",
   "metadata": {},
   "source": [
    "In both case the best architecture for the NN was with a single hidden layer of size equal to 50.\n",
    "\n",
    "In the case with only 500 data points, the training error is equal to 0, while the test error is 0.22. The use of the larger dataset (10000 points) leads to a training error equal to 0.01, and a test error of 0.16.\n",
    "\n",
    "The larger training set helps to reduce the error on the test set: that implies that the overfitting becomes less important expanding the training sample."
   ]
  },
  {
   "cell_type": "markdown",
   "metadata": {},
   "source": [
    "### TO DO 5\n",
    "\n",
    "Plot a digit that was missclassified by NN with m=500 training data points and it is now instead correctly classified by NN with m=10000 training data points."
   ]
  },
  {
   "cell_type": "code",
   "execution_count": 13,
   "metadata": {},
   "outputs": [
    {
     "name": "stdout",
     "output_type": "stream",
     "text": [
      "Image #17728\n",
      "NN prediction = 4\n",
      "Large NN prediction = 2\n",
      "INPUT:\n"
     ]
    },
    {
     "data": {
      "image/png": "[encoded data removed]",
      "text/plain": [
       "<Figure size 432x288 with 1 Axes>"
      ]
     },
     "metadata": {
      "needs_background": "light"
     },
     "output_type": "display_data"
    },
    {
     "name": "stdout",
     "output_type": "stream",
     "text": [
      "LABEL: 2\n"
     ]
    }
   ],
   "source": [
    "NN_prediction = best_NN.predict(X_test)#ADD YOUR CODE\n",
    "large_NN_prediction = best_NN_large.predict(X_test)#ADD YOUR CODE\n",
    "\n",
    "wrong_index = []\n",
    "### ADD CODE TO SEARCH AND VISUALIZE\n",
    "for i in range(len(y_test)):\n",
    "    if (large_NN_prediction[i] == y_test[i]) and (NN_prediction[i] != y_test[i]):\n",
    "        wrong_index.append(i)\n",
    "\n",
    "# Select a random image\n",
    "j = wrong_index[np.random.randint(0, len(wrong_index))]\n",
    "print(\"Image #\"+str(j))\n",
    "print(\"NN prediction =\",   NN_prediction[j])\n",
    "print(\"Large NN prediction =\", large_NN_prediction[j])\n",
    "plot_input(X_test,y_test,j)\n",
    "        "
   ]
  },
  {
   "cell_type": "markdown",
   "metadata": {},
   "source": [
    "Let's plot the weigths of the multi-layer perceptron classifier, for the best NN we get with 500 data points and with 10000 data points. Notice that the code assumes that the NNs are called \"mlp\" and \"best_mlp_large\" , you could need to replace with your variable names.\n",
    "\n"
   ]
  },
  {
   "cell_type": "code",
   "execution_count": 14,
   "metadata": {},
   "outputs": [
    {
     "name": "stdout",
     "output_type": "stream",
     "text": [
      "Weights with 500 data points:\n"
     ]
    },
    {
     "data": {
      "image/png": "[encoded data removed]",
      "text/plain": [
       "<Figure size 432x288 with 16 Axes>"
      ]
     },
     "metadata": {},
     "output_type": "display_data"
    },
    {
     "name": "stdout",
     "output_type": "stream",
     "text": [
      "Weights with 10000 data points:\n"
     ]
    },
    {
     "data": {
      "image/png": "[encoded data removed]",
      "text/plain": [
       "<Figure size 432x288 with 16 Axes>"
      ]
     },
     "metadata": {},
     "output_type": "display_data"
    }
   ],
   "source": [
    "print(\"Weights with 500 data points:\")\n",
    "\n",
    "fig, axes = plt.subplots(4, 4)\n",
    "vmin, vmax = best_NN.coefs_[0].min(), best_NN.coefs_[0].max()\n",
    "for coef, ax in zip(best_NN.coefs_[0].T, axes.ravel()):\n",
    "    ax.matshow(coef.reshape(28, 28), cmap=plt.cm.gray, vmin=.5 * vmin, vmax=.5 * vmax)\n",
    "    ax.set_xticks(())\n",
    "    ax.set_yticks(())\n",
    "\n",
    "plt.show()\n",
    "\n",
    "print(\"Weights with 10000 data points:\")\n",
    "\n",
    "fig, axes = plt.subplots(4, 4)\n",
    "vmin, vmax = best_NN_large.coefs_[0].min(), best_NN_large.coefs_[0].max()\n",
    "for coef, ax in zip(best_NN_large.coefs_[0].T, axes.ravel()):\n",
    "    ax.matshow(coef.reshape(28, 28), cmap=plt.cm.gray, vmin=.5 * vmin, vmax=.5 * vmax)\n",
    "    ax.set_xticks(())\n",
    "    ax.set_yticks(())\n",
    "plt.show()"
   ]
  },
  {
   "cell_type": "markdown",
   "metadata": {},
   "source": [
    "## QUESTION 4\n",
    "\n",
    "**Describe what do you observe by looking at the weights**"
   ]
  },
  {
   "cell_type": "markdown",
   "metadata": {},
   "source": [
    "The figures of the weights with 500 data points appear to be more noisy than the ones with 10000 points."
   ]
  },
  {
   "cell_type": "markdown",
   "metadata": {},
   "source": [
    "### TO DO 7\n",
    "\n",
    "Report the best SVM model and its parameters, you found in the last notebook. Fit it on a few data points and compute its training and test scores."
   ]
  },
  {
   "cell_type": "code",
   "execution_count": 16,
   "metadata": {},
   "outputs": [
    {
     "name": "stdout",
     "output_type": "stream",
     "text": [
      "RESULTS FOR SVM\n",
      "Training error SVM:\n",
      "0.0\n",
      "Test error SVM:\n",
      "0.14500000000000002\n"
     ]
    }
   ],
   "source": [
    "m_training = 5000\n",
    "\n",
    "X_train, X_test = X[:m_training], X[m_training:2*m_training]\n",
    "y_train, y_test = y[:m_training], y[m_training:2*m_training]\n",
    "\n",
    "# best parameters found in the SVM notebook\n",
    "# Create the SVM and perform the fit\n",
    "\n",
    "#ADD YOUR CODE\n",
    "SVM = SVC(C=100, gamma=0.01, kernel='rbf')\n",
    "SVM.fit(X_train, y_train)\n",
    "\n",
    "print ('RESULTS FOR SVM')\n",
    "\n",
    "SVM_training_error = 1. - SVM.score(X_train,y_train)\n",
    "\n",
    "print(\"Training error SVM:\")\n",
    "print(SVM_training_error)\n",
    "\n",
    "SVM_test_error = 1. - SVM.score(X_test,y_test)\n",
    "print(\"Test error SVM:\")\n",
    "print(SVM_test_error)"
   ]
  },
  {
   "cell_type": "markdown",
   "metadata": {
    "collapsed": true
   },
   "source": [
    "## QUESTION 5\n",
    "\n",
    "**Compare the results of SVM and of NN. Which one would you preferer? Which are its tradeoffs?**"
   ]
  },
  {
   "cell_type": "markdown",
   "metadata": {
    "collapsed": true
   },
   "source": [
    "The test error of the SVM is slightly better than the one of the bigger NN (0.14 for SVM, 0.16 for NN). In addition, the SVM algorithm is faster in this task. In this case I would prefer SVM."
   ]
  },
  {
   "cell_type": "code",
   "execution_count": null,
   "metadata": {},
   "outputs": [],
   "source": []
  }
 ],
 "metadata": {
  "kernelspec": {
   "display_name": "Python 3",
   "language": "python",
   "name": "python3"
  },
  "language_info": {
   "codemirror_mode": {
    "name": "ipython",
    "version": 3
   },
   "file_extension": ".py",
   "mimetype": "text/x-python",
   "name": "python",
   "nbconvert_exporter": "python",
   "pygments_lexer": "ipython3",
   "version": "3.7.1"
  }
 },
 "nbformat": 4,
 "nbformat_minor": 2
}
